{
 "cells": [
  {
   "cell_type": "code",
   "execution_count": 1,
   "metadata": {},
   "outputs": [],
   "source": [
    "import pandas as pd\n",
    "import numpy as np\n",
    "import matplotlib.pyplot as plt\n",
    "%matplotlib inline\n",
    "from sklearn.metrics import mean_squared_error\n",
    "from sklearn.preprocessing import MinMaxScaler, RobustScaler, StandardScaler\n",
    "from tensorflow.keras.layers import Dense, Dropout, Bidirectional\n",
    "from tensorflow.keras import Sequential\n",
    "from tensorflow.keras.layers import LSTM, GRU\n",
    "from tensorflow.keras.optimizers import Adam, SGD, Adadelta, Adagrad, Adamax, Nadam, RMSprop\n",
    "from tensorflow.keras.regularizers import l1, l2\n",
    "from math import sqrt"
   ]
  },
  {
   "cell_type": "markdown",
   "metadata": {},
   "source": [
    "## Import Data"
   ]
  },
  {
   "cell_type": "code",
   "execution_count": 2,
   "metadata": {},
   "outputs": [],
   "source": [
    "df = pd.read_csv('../../data/merged_all_values_v2.csv')"
   ]
  },
  {
   "cell_type": "code",
   "execution_count": 3,
   "metadata": {},
   "outputs": [
    {
     "data": {
      "text/html": [
       "<div>\n",
       "<style scoped>\n",
       "    .dataframe tbody tr th:only-of-type {\n",
       "        vertical-align: middle;\n",
       "    }\n",
       "\n",
       "    .dataframe tbody tr th {\n",
       "        vertical-align: top;\n",
       "    }\n",
       "\n",
       "    .dataframe thead th {\n",
       "        text-align: right;\n",
       "    }\n",
       "</style>\n",
       "<table border=\"1\" class=\"dataframe\">\n",
       "  <thead>\n",
       "    <tr style=\"text-align: right;\">\n",
       "      <th></th>\n",
       "      <th>DATETIME</th>\n",
       "      <th>TEMPERATURE</th>\n",
       "      <th>DAY</th>\n",
       "      <th>DAY_OF_WEEK</th>\n",
       "      <th>MONTH</th>\n",
       "      <th>YEAR</th>\n",
       "      <th>HOUR</th>\n",
       "      <th>MINUTE</th>\n",
       "      <th>WEEKEND</th>\n",
       "      <th>PUBLIC_HOLIDAY</th>\n",
       "      <th>TIME_OF_DAY</th>\n",
       "      <th>SEASON</th>\n",
       "      <th>TOTALDEMAND</th>\n",
       "    </tr>\n",
       "  </thead>\n",
       "  <tbody>\n",
       "    <tr>\n",
       "      <th>0</th>\n",
       "      <td>1/01/2010 0:00</td>\n",
       "      <td>23.1</td>\n",
       "      <td>1</td>\n",
       "      <td>4</td>\n",
       "      <td>1</td>\n",
       "      <td>2010</td>\n",
       "      <td>0</td>\n",
       "      <td>0</td>\n",
       "      <td>0</td>\n",
       "      <td>1</td>\n",
       "      <td>1</td>\n",
       "      <td>1</td>\n",
       "      <td>8038.00</td>\n",
       "    </tr>\n",
       "    <tr>\n",
       "      <th>1</th>\n",
       "      <td>1/01/2010 0:30</td>\n",
       "      <td>22.9</td>\n",
       "      <td>1</td>\n",
       "      <td>4</td>\n",
       "      <td>1</td>\n",
       "      <td>2010</td>\n",
       "      <td>0</td>\n",
       "      <td>30</td>\n",
       "      <td>0</td>\n",
       "      <td>1</td>\n",
       "      <td>1</td>\n",
       "      <td>1</td>\n",
       "      <td>7809.31</td>\n",
       "    </tr>\n",
       "    <tr>\n",
       "      <th>2</th>\n",
       "      <td>1/01/2010 1:00</td>\n",
       "      <td>22.6</td>\n",
       "      <td>1</td>\n",
       "      <td>4</td>\n",
       "      <td>1</td>\n",
       "      <td>2010</td>\n",
       "      <td>1</td>\n",
       "      <td>0</td>\n",
       "      <td>0</td>\n",
       "      <td>1</td>\n",
       "      <td>1</td>\n",
       "      <td>1</td>\n",
       "      <td>7483.69</td>\n",
       "    </tr>\n",
       "    <tr>\n",
       "      <th>3</th>\n",
       "      <td>1/01/2010 1:30</td>\n",
       "      <td>22.5</td>\n",
       "      <td>1</td>\n",
       "      <td>4</td>\n",
       "      <td>1</td>\n",
       "      <td>2010</td>\n",
       "      <td>1</td>\n",
       "      <td>30</td>\n",
       "      <td>0</td>\n",
       "      <td>1</td>\n",
       "      <td>1</td>\n",
       "      <td>1</td>\n",
       "      <td>7117.23</td>\n",
       "    </tr>\n",
       "    <tr>\n",
       "      <th>4</th>\n",
       "      <td>1/01/2010 2:00</td>\n",
       "      <td>22.5</td>\n",
       "      <td>1</td>\n",
       "      <td>4</td>\n",
       "      <td>1</td>\n",
       "      <td>2010</td>\n",
       "      <td>2</td>\n",
       "      <td>0</td>\n",
       "      <td>0</td>\n",
       "      <td>1</td>\n",
       "      <td>1</td>\n",
       "      <td>1</td>\n",
       "      <td>6812.03</td>\n",
       "    </tr>\n",
       "  </tbody>\n",
       "</table>\n",
       "</div>"
      ],
      "text/plain": [
       "         DATETIME  TEMPERATURE  DAY  DAY_OF_WEEK  MONTH  YEAR  HOUR  MINUTE  \\\n",
       "0  1/01/2010 0:00         23.1    1            4      1  2010     0       0   \n",
       "1  1/01/2010 0:30         22.9    1            4      1  2010     0      30   \n",
       "2  1/01/2010 1:00         22.6    1            4      1  2010     1       0   \n",
       "3  1/01/2010 1:30         22.5    1            4      1  2010     1      30   \n",
       "4  1/01/2010 2:00         22.5    1            4      1  2010     2       0   \n",
       "\n",
       "   WEEKEND  PUBLIC_HOLIDAY  TIME_OF_DAY  SEASON  TOTALDEMAND  \n",
       "0        0               1            1       1      8038.00  \n",
       "1        0               1            1       1      7809.31  \n",
       "2        0               1            1       1      7483.69  \n",
       "3        0               1            1       1      7117.23  \n",
       "4        0               1            1       1      6812.03  "
      ]
     },
     "execution_count": 3,
     "metadata": {},
     "output_type": "execute_result"
    }
   ],
   "source": [
    "df.head()"
   ]
  },
  {
   "cell_type": "markdown",
   "metadata": {},
   "source": [
    "## Take Subset Of Data To Only Include Years 2017, 2018, 2019 and 2020"
   ]
  },
  {
   "cell_type": "code",
   "execution_count": 4,
   "metadata": {},
   "outputs": [],
   "source": [
    "df = df[(df.YEAR == 2017) | (df.YEAR == 2018) | (df.YEAR == 2019) | (df.YEAR == 2020)]"
   ]
  },
  {
   "cell_type": "markdown",
   "metadata": {},
   "source": [
    "## One Hot Encoding"
   ]
  },
  {
   "cell_type": "markdown",
   "metadata": {},
   "source": [
    "Comment out any hot encoding that is not required.\n",
    "\n",
    "Make sure to drop the original source column used to generate any one-hot encoding."
   ]
  },
  {
   "cell_type": "markdown",
   "metadata": {},
   "source": [
    "### Month"
   ]
  },
  {
   "cell_type": "code",
   "execution_count": 5,
   "metadata": {},
   "outputs": [],
   "source": [
    "month = pd.get_dummies(df.MONTH, prefix='MONTH')\n",
    "df = df.merge(month, left_index=True, right_index=True)"
   ]
  },
  {
   "cell_type": "markdown",
   "metadata": {},
   "source": [
    "### Hour"
   ]
  },
  {
   "cell_type": "code",
   "execution_count": 6,
   "metadata": {},
   "outputs": [],
   "source": [
    "hour = pd.get_dummies(df.HOUR, prefix='HOUR')\n",
    "df = df.merge(hour, left_index=True, right_index=True)"
   ]
  },
  {
   "cell_type": "markdown",
   "metadata": {},
   "source": [
    "### Time Of Day"
   ]
  },
  {
   "cell_type": "code",
   "execution_count": 7,
   "metadata": {},
   "outputs": [],
   "source": [
    "# time_of_day = pd.get_dummies(df.TIME_OF_DAY, prefix='TIME_OF_DAY')\n",
    "# df = df.merge(time_of_day, left_index=True, right_index=True)"
   ]
  },
  {
   "cell_type": "markdown",
   "metadata": {},
   "source": [
    "### Season"
   ]
  },
  {
   "cell_type": "code",
   "execution_count": 8,
   "metadata": {},
   "outputs": [],
   "source": [
    "# season = pd.get_dummies(df.SEASON, prefix='SEASON')\n",
    "# df = df.merge(season, left_index=True, right_index=True)"
   ]
  },
  {
   "cell_type": "markdown",
   "metadata": {},
   "source": [
    "### Day Of The Week"
   ]
  },
  {
   "cell_type": "code",
   "execution_count": 9,
   "metadata": {},
   "outputs": [],
   "source": [
    "# day_of_week = pd.get_dummies(df.DAY_OF_WEEK, prefix='DAY_OF_WEEK')\n",
    "# df = df.merge(day_of_week, left_index=True, right_index=True)"
   ]
  },
  {
   "cell_type": "markdown",
   "metadata": {},
   "source": [
    "## Create Train And Test Datasets"
   ]
  },
  {
   "cell_type": "code",
   "execution_count": 10,
   "metadata": {},
   "outputs": [],
   "source": [
    "train = df[df.YEAR != 2020]\n",
    "test = df[df.YEAR == 2020]"
   ]
  },
  {
   "cell_type": "markdown",
   "metadata": {},
   "source": [
    "## Drop Columns Not Required"
   ]
  },
  {
   "cell_type": "code",
   "execution_count": 11,
   "metadata": {
    "scrolled": false
   },
   "outputs": [
    {
     "name": "stderr",
     "output_type": "stream",
     "text": [
      "D:\\Users\\Matthew\\anaconda3\\envs\\tf2\\lib\\site-packages\\pandas\\core\\frame.py:4308: SettingWithCopyWarning: \n",
      "A value is trying to be set on a copy of a slice from a DataFrame\n",
      "\n",
      "See the caveats in the documentation: https://pandas.pydata.org/pandas-docs/stable/user_guide/indexing.html#returning-a-view-versus-a-copy\n",
      "  return super().drop(\n"
     ]
    }
   ],
   "source": [
    "# Fields commented out are being used so hence are not dropped. However if one-hot encoding has been used then the\n",
    "# original column used to generate the one-hot encoding needs to be dropped.\n",
    "\n",
    "train.drop(['DATETIME',\n",
    "            #'TEMPERATURE',\n",
    "            'DAY',\n",
    "            'DAY_OF_WEEK',\n",
    "            'MONTH',\n",
    "            'YEAR',\n",
    "            'HOUR',\n",
    "            'MINUTE',\n",
    "            #'WEEKEND',\n",
    "            #'PUBLIC_HOLIDAY',\n",
    "            'TIME_OF_DAY',\n",
    "            'SEASON'], axis=1, inplace=True)\n",
    "test.drop(['DATETIME',\n",
    "            #'TEMPERATURE',\n",
    "            'DAY',\n",
    "            'DAY_OF_WEEK',\n",
    "            'MONTH',\n",
    "            'YEAR',\n",
    "            'HOUR',\n",
    "            'MINUTE',\n",
    "            #'WEEKEND',\n",
    "            #'PUBLIC_HOLIDAY',\n",
    "            'TIME_OF_DAY',\n",
    "            'SEASON'], axis=1, inplace=True)"
   ]
  },
  {
   "cell_type": "markdown",
   "metadata": {},
   "source": [
    "## Scale Continuous Variables"
   ]
  },
  {
   "cell_type": "markdown",
   "metadata": {},
   "source": [
    "Comment out any variable that is not required."
   ]
  },
  {
   "cell_type": "markdown",
   "metadata": {},
   "source": [
    "### Temperature"
   ]
  },
  {
   "cell_type": "code",
   "execution_count": 12,
   "metadata": {},
   "outputs": [
    {
     "name": "stderr",
     "output_type": "stream",
     "text": [
      "<ipython-input-12-bc4d97359920>:4: SettingWithCopyWarning: \n",
      "A value is trying to be set on a copy of a slice from a DataFrame.\n",
      "Try using .loc[row_indexer,col_indexer] = value instead\n",
      "\n",
      "See the caveats in the documentation: https://pandas.pydata.org/pandas-docs/stable/user_guide/indexing.html#returning-a-view-versus-a-copy\n",
      "  train['TEMPERATURE'] = temp_transformer.transform(train[['TEMPERATURE']])\n",
      "<ipython-input-12-bc4d97359920>:5: SettingWithCopyWarning: \n",
      "A value is trying to be set on a copy of a slice from a DataFrame.\n",
      "Try using .loc[row_indexer,col_indexer] = value instead\n",
      "\n",
      "See the caveats in the documentation: https://pandas.pydata.org/pandas-docs/stable/user_guide/indexing.html#returning-a-view-versus-a-copy\n",
      "  test['TEMPERATURE'] = temp_transformer.transform(test[['TEMPERATURE']])\n"
     ]
    }
   ],
   "source": [
    "temp_transformer = MinMaxScaler(feature_range=(0, 1))\n",
    "temp_transformer = temp_transformer.fit(train[['TEMPERATURE']])\n",
    "\n",
    "train['TEMPERATURE'] = temp_transformer.transform(train[['TEMPERATURE']])\n",
    "test['TEMPERATURE'] = temp_transformer.transform(test[['TEMPERATURE']])"
   ]
  },
  {
   "cell_type": "markdown",
   "metadata": {},
   "source": [
    "### Total Demand"
   ]
  },
  {
   "cell_type": "code",
   "execution_count": 13,
   "metadata": {},
   "outputs": [
    {
     "name": "stderr",
     "output_type": "stream",
     "text": [
      "<ipython-input-13-e8521410cbdd>:4: SettingWithCopyWarning: \n",
      "A value is trying to be set on a copy of a slice from a DataFrame.\n",
      "Try using .loc[row_indexer,col_indexer] = value instead\n",
      "\n",
      "See the caveats in the documentation: https://pandas.pydata.org/pandas-docs/stable/user_guide/indexing.html#returning-a-view-versus-a-copy\n",
      "  train['TOTALDEMAND'] = td_transformer.transform(train[['TOTALDEMAND']])\n",
      "<ipython-input-13-e8521410cbdd>:5: SettingWithCopyWarning: \n",
      "A value is trying to be set on a copy of a slice from a DataFrame.\n",
      "Try using .loc[row_indexer,col_indexer] = value instead\n",
      "\n",
      "See the caveats in the documentation: https://pandas.pydata.org/pandas-docs/stable/user_guide/indexing.html#returning-a-view-versus-a-copy\n",
      "  test['TOTALDEMAND'] = td_transformer.transform(test[['TOTALDEMAND']])\n"
     ]
    }
   ],
   "source": [
    "td_transformer = MinMaxScaler(feature_range=(0, 1))\n",
    "td_transformer = td_transformer.fit(train[['TOTALDEMAND']])\n",
    "\n",
    "train['TOTALDEMAND'] = td_transformer.transform(train[['TOTALDEMAND']])\n",
    "test['TOTALDEMAND'] = td_transformer.transform(test[['TOTALDEMAND']])"
   ]
  },
  {
   "cell_type": "markdown",
   "metadata": {},
   "source": [
    "## Configure Lookback Period And Apply To Train And Test Datasets"
   ]
  },
  {
   "cell_type": "code",
   "execution_count": 14,
   "metadata": {},
   "outputs": [],
   "source": [
    "def create_dataset(X, y, time_steps=1):\n",
    "    Xs, ys = [], []\n",
    "    for i in range(len(X) - time_steps):\n",
    "        v = X.iloc[i:(i + time_steps)].values\n",
    "        Xs.append(v)        \n",
    "        ys.append(y.iloc[i + time_steps])\n",
    "    return np.array(Xs), np.array(ys)"
   ]
  },
  {
   "cell_type": "code",
   "execution_count": 15,
   "metadata": {},
   "outputs": [
    {
     "name": "stdout",
     "output_type": "stream",
     "text": [
      "(52536, 24, 40) (52536,)\n"
     ]
    }
   ],
   "source": [
    "time_steps = 24\n",
    "\n",
    "# reshape to [samples, time_steps, n_features]\n",
    "\n",
    "X_train, y_train = create_dataset(train, train.TOTALDEMAND, time_steps)\n",
    "X_test, y_test = create_dataset(test, test.TOTALDEMAND, time_steps)\n",
    "\n",
    "print(X_train.shape, y_train.shape)"
   ]
  },
  {
   "cell_type": "markdown",
   "metadata": {},
   "source": [
    "## Configure LSTM Neural Network"
   ]
  },
  {
   "cell_type": "code",
   "execution_count": 16,
   "metadata": {},
   "outputs": [],
   "source": [
    "model = Sequential()\n",
    "model.add(Bidirectional(\n",
    "    LSTM(units=50, input_shape=(\n",
    "        X_train.shape[1],\n",
    "        X_train.shape[2]),\n",
    "         activation='relu'))\n",
    "         )\n",
    "# model.add(Dropout(rate=0.0)) - Appears to just make things worse. May be reuired if more neurons are configured.\n",
    "model.add(Dense(1))\n",
    "opt = Adam()\n",
    "model.compile(loss='mean_squared_error', optimizer=opt)"
   ]
  },
  {
   "cell_type": "markdown",
   "metadata": {},
   "source": [
    "## Fit Model To Train Dataset"
   ]
  },
  {
   "cell_type": "code",
   "execution_count": 17,
   "metadata": {},
   "outputs": [
    {
     "name": "stdout",
     "output_type": "stream",
     "text": [
      "Epoch 1/30\n",
      "1478/1478 [==============================] - 14s 10ms/step - loss: 0.0014 - val_loss: 4.6317e-04\n",
      "Epoch 2/30\n",
      "1478/1478 [==============================] - 14s 9ms/step - loss: 1.9855e-04 - val_loss: 2.2753e-04\n",
      "Epoch 3/30\n",
      "1478/1478 [==============================] - 14s 10ms/step - loss: 1.3734e-04 - val_loss: 1.4889e-04\n",
      "Epoch 4/30\n",
      "1478/1478 [==============================] - 14s 9ms/step - loss: 1.0736e-04 - val_loss: 2.0674e-04\n",
      "Epoch 5/30\n",
      "1478/1478 [==============================] - 13s 9ms/step - loss: 9.5651e-05 - val_loss: 9.9460e-05\n",
      "Epoch 6/30\n",
      "1478/1478 [==============================] - 14s 9ms/step - loss: 7.8396e-05 - val_loss: 1.0154e-04\n",
      "Epoch 7/30\n",
      "1478/1478 [==============================] - 13s 9ms/step - loss: 7.1869e-05 - val_loss: 7.6305e-05\n",
      "Epoch 8/30\n",
      "1478/1478 [==============================] - 14s 9ms/step - loss: 6.6292e-05 - val_loss: 6.7861e-05\n",
      "Epoch 9/30\n",
      "1478/1478 [==============================] - 15s 10ms/step - loss: 5.9794e-05 - val_loss: 6.2292e-05\n",
      "Epoch 10/30\n",
      "1478/1478 [==============================] - 14s 9ms/step - loss: 5.8924e-05 - val_loss: 6.7086e-05\n",
      "Epoch 11/30\n",
      "1478/1478 [==============================] - 18s 12ms/step - loss: 5.5214e-05 - val_loss: 9.5973e-05\n",
      "Epoch 12/30\n",
      "1478/1478 [==============================] - 15s 10ms/step - loss: 5.4128e-05 - val_loss: 5.9671e-05\n",
      "Epoch 13/30\n",
      "1478/1478 [==============================] - 14s 10ms/step - loss: 5.2124e-05 - val_loss: 6.9408e-05\n",
      "Epoch 14/30\n",
      "1478/1478 [==============================] - 14s 9ms/step - loss: 5.0504e-05 - val_loss: 5.6601e-05\n",
      "Epoch 15/30\n",
      "1478/1478 [==============================] - 14s 9ms/step - loss: 4.9222e-05 - val_loss: 5.4383e-05\n",
      "Epoch 16/30\n",
      "1478/1478 [==============================] - 14s 10ms/step - loss: 4.9440e-05 - val_loss: 5.1424e-05\n",
      "Epoch 17/30\n",
      "1478/1478 [==============================] - 14s 9ms/step - loss: 4.7251e-05 - val_loss: 6.7364e-05\n",
      "Epoch 18/30\n",
      "1478/1478 [==============================] - 14s 9ms/step - loss: 4.7206e-05 - val_loss: 5.6113e-05\n",
      "Epoch 19/30\n",
      "1478/1478 [==============================] - 14s 9ms/step - loss: 4.5503e-05 - val_loss: 5.6230e-05\n",
      "Epoch 20/30\n",
      "1478/1478 [==============================] - 14s 9ms/step - loss: 4.4606e-05 - val_loss: 5.5502e-05\n",
      "Epoch 21/30\n",
      "1478/1478 [==============================] - 14s 9ms/step - loss: 4.5549e-05 - val_loss: 5.3050e-05\n",
      "Epoch 22/30\n",
      "1478/1478 [==============================] - 14s 9ms/step - loss: 4.3926e-05 - val_loss: 5.2303e-05\n",
      "Epoch 23/30\n",
      "1478/1478 [==============================] - 14s 10ms/step - loss: 4.4338e-05 - val_loss: 5.7346e-05\n",
      "Epoch 24/30\n",
      "1478/1478 [==============================] - 14s 9ms/step - loss: 4.3005e-05 - val_loss: 5.6052e-05\n",
      "Epoch 25/30\n",
      "1478/1478 [==============================] - 14s 9ms/step - loss: 4.3764e-05 - val_loss: 5.3878e-05\n",
      "Epoch 26/30\n",
      "1478/1478 [==============================] - 14s 9ms/step - loss: 4.2621e-05 - val_loss: 5.2804e-05\n",
      "Epoch 27/30\n",
      "1478/1478 [==============================] - 14s 9ms/step - loss: 4.2979e-05 - val_loss: 6.2421e-05\n",
      "Epoch 28/30\n",
      "1478/1478 [==============================] - 14s 9ms/step - loss: 4.2504e-05 - val_loss: 4.9451e-05\n",
      "Epoch 29/30\n",
      "1478/1478 [==============================] - 14s 9ms/step - loss: 4.1228e-05 - val_loss: 5.3847e-05\n",
      "Epoch 30/30\n",
      "1478/1478 [==============================] - 14s 9ms/step - loss: 4.1768e-05 - val_loss: 4.8223e-05\n"
     ]
    }
   ],
   "source": [
    "history = model.fit(X_train, y_train, epochs=30, batch_size=32, validation_split=0.1, shuffle=True)"
   ]
  },
  {
   "cell_type": "markdown",
   "metadata": {},
   "source": [
    "## Plot Losses Per Epoch"
   ]
  },
  {
   "cell_type": "code",
   "execution_count": 18,
   "metadata": {},
   "outputs": [
    {
     "data": {
      "image/png": "[encoded data removed]",
      "text/plain": [
       "<Figure size 432x288 with 1 Axes>"
      ]
     },
     "metadata": {
      "needs_background": "light"
     },
     "output_type": "display_data"
    }
   ],
   "source": [
    "plt.plot(history.history['loss'])\n",
    "plt.plot(history.history['val_loss'])\n",
    "plt.title('Loss Per Epoch')\n",
    "plt.ylabel('Loss')\n",
    "plt.xlabel('Epoch')\n",
    "plt.legend(['Train', 'Test'], loc='upper left')\n",
    "plt.show()"
   ]
  },
  {
   "cell_type": "markdown",
   "metadata": {},
   "source": [
    "## Make Predictions For Test And Train Dataset"
   ]
  },
  {
   "cell_type": "code",
   "execution_count": 19,
   "metadata": {},
   "outputs": [],
   "source": [
    "y_pred = model.predict(X_test)\n",
    "y_pred_train = model.predict(X_train)"
   ]
  },
  {
   "cell_type": "markdown",
   "metadata": {},
   "source": [
    "## Convert Values Back To Regular Values"
   ]
  },
  {
   "cell_type": "code",
   "execution_count": 20,
   "metadata": {},
   "outputs": [],
   "source": [
    "# Typically you would not scale y values. However, as the scaled total demand values were used to create both the x and y\n",
    "# values, the scaling for the prediction and y test now needs to be reversed.\n",
    "y_pred = td_transformer.inverse_transform(y_pred)\n",
    "y_test = td_transformer.inverse_transform([y_test])\n",
    "\n",
    "y_pred_train = td_transformer.inverse_transform(y_pred_train)\n",
    "y_train = td_transformer.inverse_transform([y_train])"
   ]
  },
  {
   "cell_type": "markdown",
   "metadata": {},
   "source": [
    "## Calculate RMSE"
   ]
  },
  {
   "cell_type": "markdown",
   "metadata": {},
   "source": [
    "### Test Dataset"
   ]
  },
  {
   "cell_type": "code",
   "execution_count": 21,
   "metadata": {},
   "outputs": [
    {
     "name": "stdout",
     "output_type": "stream",
     "text": [
      "RMSE: 70.528047\n"
     ]
    }
   ],
   "source": [
    "y_test = y_test.reshape(-1)\n",
    "y_test = pd.Series(y_test)\n",
    "\n",
    "y_pred = y_pred.reshape(-1)\n",
    "y_pred = pd.Series(y_pred)\n",
    "\n",
    "mse = mean_squared_error(y_test, y_pred)\n",
    "rmse = sqrt(mse)\n",
    "print('RMSE: %f' % rmse)"
   ]
  },
  {
   "cell_type": "markdown",
   "metadata": {},
   "source": [
    "### Train Dataset (for comparison with Test dataset)"
   ]
  },
  {
   "cell_type": "code",
   "execution_count": 22,
   "metadata": {},
   "outputs": [
    {
     "name": "stdout",
     "output_type": "stream",
     "text": [
      "RMSE: 55.465946\n"
     ]
    }
   ],
   "source": [
    "y_train = y_train.reshape(-1)\n",
    "y_train = pd.Series(y_train)\n",
    "\n",
    "y_pred_train = y_pred_train.reshape(-1)\n",
    "y_pred_train = pd.Series(y_pred_train)\n",
    "\n",
    "mse = mean_squared_error(y_train, y_pred_train)\n",
    "rmse = sqrt(mse)\n",
    "print('RMSE: %f' % rmse)"
   ]
  },
  {
   "cell_type": "markdown",
   "metadata": {},
   "source": [
    "## Average Percentage Difference Between Prediction And Actual Values"
   ]
  },
  {
   "cell_type": "code",
   "execution_count": 23,
   "metadata": {},
   "outputs": [],
   "source": [
    "predict_actual = y_test.to_frame()\n",
    "predict_actual['PREDICTION'] = y_pred\n",
    "predict_actual.columns = ['ACTUAL', 'PREDICTION']\n",
    "predict_actual['PERCENT_DIFF'] = abs(predict_actual.ACTUAL - predict_actual.PREDICTION) / predict_actual.ACTUAL * 100"
   ]
  },
  {
   "cell_type": "code",
   "execution_count": 24,
   "metadata": {},
   "outputs": [
    {
     "data": {
      "text/plain": [
       "0.6889922684718999"
      ]
     },
     "execution_count": 24,
     "metadata": {},
     "output_type": "execute_result"
    }
   ],
   "source": [
    "avg_perc_diff = sum(predict_actual.PERCENT_DIFF) / len(predict_actual)\n",
    "avg_perc_diff"
   ]
  },
  {
   "cell_type": "code",
   "execution_count": 25,
   "metadata": {},
   "outputs": [
    {
     "data": {
      "text/html": [
       "<div>\n",
       "<style scoped>\n",
       "    .dataframe tbody tr th:only-of-type {\n",
       "        vertical-align: middle;\n",
       "    }\n",
       "\n",
       "    .dataframe tbody tr th {\n",
       "        vertical-align: top;\n",
       "    }\n",
       "\n",
       "    .dataframe thead th {\n",
       "        text-align: right;\n",
       "    }\n",
       "</style>\n",
       "<table border=\"1\" class=\"dataframe\">\n",
       "  <thead>\n",
       "    <tr style=\"text-align: right;\">\n",
       "      <th></th>\n",
       "      <th>ACTUAL</th>\n",
       "      <th>PREDICTION</th>\n",
       "      <th>PERCENT_DIFF</th>\n",
       "    </tr>\n",
       "  </thead>\n",
       "  <tbody>\n",
       "    <tr>\n",
       "      <th>0</th>\n",
       "      <td>6815.00</td>\n",
       "      <td>6711.944336</td>\n",
       "      <td>1.512189</td>\n",
       "    </tr>\n",
       "    <tr>\n",
       "      <th>1</th>\n",
       "      <td>6954.52</td>\n",
       "      <td>6795.007812</td>\n",
       "      <td>2.293648</td>\n",
       "    </tr>\n",
       "    <tr>\n",
       "      <th>2</th>\n",
       "      <td>7087.53</td>\n",
       "      <td>6971.105469</td>\n",
       "      <td>1.642667</td>\n",
       "    </tr>\n",
       "    <tr>\n",
       "      <th>3</th>\n",
       "      <td>7187.66</td>\n",
       "      <td>7156.186035</td>\n",
       "      <td>0.437889</td>\n",
       "    </tr>\n",
       "    <tr>\n",
       "      <th>4</th>\n",
       "      <td>7365.48</td>\n",
       "      <td>7288.362305</td>\n",
       "      <td>1.047015</td>\n",
       "    </tr>\n",
       "    <tr>\n",
       "      <th>...</th>\n",
       "      <td>...</td>\n",
       "      <td>...</td>\n",
       "      <td>...</td>\n",
       "    </tr>\n",
       "    <tr>\n",
       "      <th>17539</th>\n",
       "      <td>7072.75</td>\n",
       "      <td>7052.985840</td>\n",
       "      <td>0.279441</td>\n",
       "    </tr>\n",
       "    <tr>\n",
       "      <th>17540</th>\n",
       "      <td>7062.97</td>\n",
       "      <td>6989.127441</td>\n",
       "      <td>1.045489</td>\n",
       "    </tr>\n",
       "    <tr>\n",
       "      <th>17541</th>\n",
       "      <td>7172.60</td>\n",
       "      <td>7086.833496</td>\n",
       "      <td>1.195752</td>\n",
       "    </tr>\n",
       "    <tr>\n",
       "      <th>17542</th>\n",
       "      <td>7125.65</td>\n",
       "      <td>7082.728516</td>\n",
       "      <td>0.602352</td>\n",
       "    </tr>\n",
       "    <tr>\n",
       "      <th>17543</th>\n",
       "      <td>7080.04</td>\n",
       "      <td>7000.288574</td>\n",
       "      <td>1.126426</td>\n",
       "    </tr>\n",
       "  </tbody>\n",
       "</table>\n",
       "<p>17544 rows × 3 columns</p>\n",
       "</div>"
      ],
      "text/plain": [
       "        ACTUAL   PREDICTION  PERCENT_DIFF\n",
       "0      6815.00  6711.944336      1.512189\n",
       "1      6954.52  6795.007812      2.293648\n",
       "2      7087.53  6971.105469      1.642667\n",
       "3      7187.66  7156.186035      0.437889\n",
       "4      7365.48  7288.362305      1.047015\n",
       "...        ...          ...           ...\n",
       "17539  7072.75  7052.985840      0.279441\n",
       "17540  7062.97  6989.127441      1.045489\n",
       "17541  7172.60  7086.833496      1.195752\n",
       "17542  7125.65  7082.728516      0.602352\n",
       "17543  7080.04  7000.288574      1.126426\n",
       "\n",
       "[17544 rows x 3 columns]"
      ]
     },
     "execution_count": 25,
     "metadata": {},
     "output_type": "execute_result"
    }
   ],
   "source": [
    "predict_actual"
   ]
  },
  {
   "cell_type": "code",
   "execution_count": null,
   "metadata": {},
   "outputs": [],
   "source": []
  }
 ],
 "metadata": {
  "kernelspec": {
   "display_name": "Python 3",
   "language": "python",
   "name": "python3"
  },
  "language_info": {
   "codemirror_mode": {
    "name": "ipython",
    "version": 3
   },
   "file_extension": ".py",
   "mimetype": "text/x-python",
   "name": "python",
   "nbconvert_exporter": "python",
   "pygments_lexer": "ipython3",
   "version": "3.8.10"
  }
 },
 "nbformat": 4,
 "nbformat_minor": 2
}
