{
 "cells": [
  {
   "cell_type": "code",
   "execution_count": 1,
   "id": "8d9e114c",
   "metadata": {},
   "outputs": [],
   "source": [
    "import pandas as pd"
   ]
  },
  {
   "cell_type": "markdown",
   "id": "35bf3777",
   "metadata": {},
   "source": [
    "## Import Data"
   ]
  },
  {
   "cell_type": "code",
   "execution_count": 2,
   "id": "a6f20c68",
   "metadata": {},
   "outputs": [],
   "source": [
    "temperature = pd.read_csv('../../data/temperature_nsw.csv')\n",
    "temperature_missing = pd.read_csv('../../data/temperature_nsw_additional.csv')\n",
    "demand = pd.read_csv('../../data/totaldemand_nsw.csv')"
   ]
  },
  {
   "cell_type": "markdown",
   "id": "d254e571",
   "metadata": {},
   "source": [
    "## Drop Redundant Columns For Each Dataset"
   ]
  },
  {
   "cell_type": "code",
   "execution_count": 3,
   "id": "69280fa1",
   "metadata": {},
   "outputs": [],
   "source": [
    "temperature.drop(['LOCATION'], axis=1, inplace=True)\n",
    "demand.drop(['REGIONID'], axis=1, inplace=True)"
   ]
  },
  {
   "cell_type": "markdown",
   "id": "79091308",
   "metadata": {},
   "source": [
    "## Remove Duplicate DATETIME values in Temperature Dataset"
   ]
  },
  {
   "cell_type": "code",
   "execution_count": 4,
   "id": "e07e5b48",
   "metadata": {},
   "outputs": [],
   "source": [
    "temperature = temperature.drop([temperature.index[19006], temperature.index[34282], temperature.index[34299],\n",
    "                                temperature.index[34302], temperature.index[38655], temperature.index[58293],\n",
    "                                temperature.index[78276], temperature.index[97917], temperature.index[117699],\n",
    "                                temperature.index[137200], temperature.index[157015], temperature.index[176797],\n",
    "                                temperature.index[196230]])"
   ]
  },
  {
   "cell_type": "markdown",
   "id": "d0831e1f",
   "metadata": {},
   "source": [
    "## Append Missing Value Dataset To Temperature Dataset"
   ]
  },
  {
   "cell_type": "code",
   "execution_count": 5,
   "id": "ee54124a",
   "metadata": {},
   "outputs": [],
   "source": [
    "temperature = temperature.append(temperature_missing, ignore_index=True)"
   ]
  },
  {
   "cell_type": "markdown",
   "id": "50314772",
   "metadata": {},
   "source": [
    "## Convert Values In DATETIME Columns From Strings To Datetime Values"
   ]
  },
  {
   "cell_type": "code",
   "execution_count": 6,
   "id": "fb23e736",
   "metadata": {},
   "outputs": [],
   "source": [
    "temperature['DATETIME'] = pd.to_datetime(temperature['DATETIME'], dayfirst=True)\n",
    "demand['DATETIME'] = pd.to_datetime(demand['DATETIME'], dayfirst=True)"
   ]
  },
  {
   "cell_type": "markdown",
   "id": "99a4da94",
   "metadata": {},
   "source": [
    "## Create Minutes Column"
   ]
  },
  {
   "cell_type": "code",
   "execution_count": 7,
   "id": "1f602bb4",
   "metadata": {},
   "outputs": [],
   "source": [
    "temperature['MINUTE'] = temperature['DATETIME'].dt.minute"
   ]
  },
  {
   "cell_type": "markdown",
   "id": "324a9ef2",
   "metadata": {},
   "source": [
    "## Drop Record In The Temperature Dataset If The Minute Is Not 0 Or 30"
   ]
  },
  {
   "cell_type": "code",
   "execution_count": 8,
   "id": "b519c01f",
   "metadata": {},
   "outputs": [],
   "source": [
    "temperature = temperature.drop(temperature[(temperature['MINUTE'] != 0) & (temperature['MINUTE'] != 30)].index)"
   ]
  },
  {
   "cell_type": "markdown",
   "id": "ce79cc16",
   "metadata": {},
   "source": [
    "## Drop MINUTE Column So That Missing Values Are Only Filled In For The TEMPERATURE Column"
   ]
  },
  {
   "cell_type": "code",
   "execution_count": 9,
   "id": "e281f8b2",
   "metadata": {
    "scrolled": true
   },
   "outputs": [],
   "source": [
    "temperature.drop(['MINUTE'], axis=1, inplace=True)"
   ]
  },
  {
   "cell_type": "markdown",
   "id": "98cf7284",
   "metadata": {},
   "source": [
    "## Fill In Remaining Missing Values So That All Timestamps Are Included"
   ]
  },
  {
   "cell_type": "code",
   "execution_count": 10,
   "id": "b9b2022b",
   "metadata": {},
   "outputs": [],
   "source": [
    "temperature = temperature.set_index('DATETIME').resample(rule='30T').interpolate(method='time').reset_index()"
   ]
  },
  {
   "cell_type": "markdown",
   "id": "b992eb95",
   "metadata": {},
   "source": [
    "## Round Temperature Values To One Decimal Place"
   ]
  },
  {
   "cell_type": "code",
   "execution_count": 11,
   "id": "7fa6a49d",
   "metadata": {},
   "outputs": [],
   "source": [
    "temperature.TEMPERATURE = temperature.TEMPERATURE.round(1)"
   ]
  },
  {
   "cell_type": "markdown",
   "id": "9b427282",
   "metadata": {},
   "source": [
    "## Create Separate Columns For Year, Month, Day, Day Of Week, Hour and Minute"
   ]
  },
  {
   "cell_type": "code",
   "execution_count": 12,
   "id": "b869f4c1",
   "metadata": {},
   "outputs": [],
   "source": [
    "temperature['DAY'] = temperature['DATETIME'].dt.day\n",
    "temperature['DAY_OF_WEEK'] = temperature['DATETIME'].dt.dayofweek\n",
    "temperature['MONTH'] = temperature['DATETIME'].dt.month\n",
    "temperature['YEAR'] = temperature['DATETIME'].dt.year\n",
    "temperature['HOUR'] = temperature['DATETIME'].dt.hour\n",
    "temperature['MINUTE'] = temperature['DATETIME'].dt.minute"
   ]
  },
  {
   "cell_type": "markdown",
   "id": "138d9343",
   "metadata": {},
   "source": [
    "## Create Separate Column For Weekday/Weekend"
   ]
  },
  {
   "cell_type": "code",
   "execution_count": 14,
   "id": "00855e5c",
   "metadata": {},
   "outputs": [],
   "source": [
    "weekday = list(range(5))\n",
    "\n",
    "weekend = []\n",
    "for i, value in enumerate(temperature['DAY_OF_WEEK']):\n",
    "    if value in weekday:\n",
    "        weekend.append(0)\n",
    "    else:\n",
    "        weekend.append(1)\n",
    "\n",
    "temperature['WEEKEND'] = weekend"
   ]
  },
  {
   "cell_type": "markdown",
   "id": "9478f205",
   "metadata": {},
   "source": [
    "## Create Separate Column For Time Of Day"
   ]
  },
  {
   "cell_type": "code",
   "execution_count": 15,
   "id": "9c184158",
   "metadata": {},
   "outputs": [],
   "source": [
    "early_morning = list(range(6))\n",
    "late_morning = list(range(6, 12))\n",
    "afternoon = list(range(12, 18))\n",
    "evening = list(range(18, 24))\n",
    "\n",
    "time_of_day_train = []\n",
    "for i, value in enumerate(temperature['HOUR']):\n",
    "    if value in early_morning:\n",
    "        time_of_day_train.append(1)\n",
    "    elif value in late_morning:\n",
    "        time_of_day_train.append(2)\n",
    "    elif value in afternoon:\n",
    "        time_of_day_train.append(3)\n",
    "    elif value in evening:\n",
    "        time_of_day_train.append(4)\n",
    "        \n",
    "temperature['TIME_OF_DAY'] = time_of_day_train"
   ]
  },
  {
   "cell_type": "markdown",
   "id": "92e20781",
   "metadata": {},
   "source": [
    "## Create Separate Column For Season"
   ]
  },
  {
   "cell_type": "code",
   "execution_count": 16,
   "id": "9ef15aea",
   "metadata": {},
   "outputs": [],
   "source": [
    "summer = [1, 2, 12]\n",
    "autumn = [3, 4, 5]\n",
    "winter = [6, 7, 8]\n",
    "spring = [9, 10, 11]\n",
    "\n",
    "season_train = []\n",
    "for i, value in enumerate(temperature['MONTH']):\n",
    "    if value in summer:\n",
    "        season_train.append(1)\n",
    "    elif value in autumn:\n",
    "        season_train.append(2)\n",
    "    elif value in winter:\n",
    "        season_train.append(3)\n",
    "    elif value in spring:\n",
    "        season_train.append(4)\n",
    "        \n",
    "temperature['SEASON'] = season_train"
   ]
  },
  {
   "cell_type": "markdown",
   "id": "30aa188e",
   "metadata": {},
   "source": [
    "## Export Temperature Dataset With All Missing Values Filled"
   ]
  },
  {
   "cell_type": "code",
   "execution_count": 17,
   "id": "b8f2954a",
   "metadata": {},
   "outputs": [],
   "source": [
    "temperature.to_csv('temperature_nsw_all_values_v2.csv')"
   ]
  },
  {
   "cell_type": "markdown",
   "id": "fbd95c03",
   "metadata": {},
   "source": [
    "## Merge Temperature And Demand Datasets"
   ]
  },
  {
   "cell_type": "code",
   "execution_count": 18,
   "id": "4165f402",
   "metadata": {},
   "outputs": [],
   "source": [
    "merged = temperature.merge(demand, how='left', on='DATETIME')"
   ]
  },
  {
   "cell_type": "code",
   "execution_count": 19,
   "id": "f8294a25",
   "metadata": {},
   "outputs": [
    {
     "data": {
      "text/html": [
       "<div>\n",
       "<style scoped>\n",
       "    .dataframe tbody tr th:only-of-type {\n",
       "        vertical-align: middle;\n",
       "    }\n",
       "\n",
       "    .dataframe tbody tr th {\n",
       "        vertical-align: top;\n",
       "    }\n",
       "\n",
       "    .dataframe thead th {\n",
       "        text-align: right;\n",
       "    }\n",
       "</style>\n",
       "<table border=\"1\" class=\"dataframe\">\n",
       "  <thead>\n",
       "    <tr style=\"text-align: right;\">\n",
       "      <th></th>\n",
       "      <th>DATETIME</th>\n",
       "      <th>TEMPERATURE</th>\n",
       "      <th>DAY</th>\n",
       "      <th>DAY_OF_WEEK</th>\n",
       "      <th>MONTH</th>\n",
       "      <th>YEAR</th>\n",
       "      <th>HOUR</th>\n",
       "      <th>MINUTE</th>\n",
       "      <th>WEEKEND</th>\n",
       "      <th>TIME_OF_DAY</th>\n",
       "      <th>SEASON</th>\n",
       "      <th>TOTALDEMAND</th>\n",
       "    </tr>\n",
       "  </thead>\n",
       "  <tbody>\n",
       "    <tr>\n",
       "      <th>0</th>\n",
       "      <td>2010-01-01 00:00:00</td>\n",
       "      <td>23.1</td>\n",
       "      <td>1</td>\n",
       "      <td>4</td>\n",
       "      <td>1</td>\n",
       "      <td>2010</td>\n",
       "      <td>0</td>\n",
       "      <td>0</td>\n",
       "      <td>0</td>\n",
       "      <td>1</td>\n",
       "      <td>1</td>\n",
       "      <td>8038.00</td>\n",
       "    </tr>\n",
       "    <tr>\n",
       "      <th>1</th>\n",
       "      <td>2010-01-01 00:30:00</td>\n",
       "      <td>22.9</td>\n",
       "      <td>1</td>\n",
       "      <td>4</td>\n",
       "      <td>1</td>\n",
       "      <td>2010</td>\n",
       "      <td>0</td>\n",
       "      <td>30</td>\n",
       "      <td>0</td>\n",
       "      <td>1</td>\n",
       "      <td>1</td>\n",
       "      <td>7809.31</td>\n",
       "    </tr>\n",
       "    <tr>\n",
       "      <th>2</th>\n",
       "      <td>2010-01-01 01:00:00</td>\n",
       "      <td>22.6</td>\n",
       "      <td>1</td>\n",
       "      <td>4</td>\n",
       "      <td>1</td>\n",
       "      <td>2010</td>\n",
       "      <td>1</td>\n",
       "      <td>0</td>\n",
       "      <td>0</td>\n",
       "      <td>1</td>\n",
       "      <td>1</td>\n",
       "      <td>7483.69</td>\n",
       "    </tr>\n",
       "    <tr>\n",
       "      <th>3</th>\n",
       "      <td>2010-01-01 01:30:00</td>\n",
       "      <td>22.5</td>\n",
       "      <td>1</td>\n",
       "      <td>4</td>\n",
       "      <td>1</td>\n",
       "      <td>2010</td>\n",
       "      <td>1</td>\n",
       "      <td>30</td>\n",
       "      <td>0</td>\n",
       "      <td>1</td>\n",
       "      <td>1</td>\n",
       "      <td>7117.23</td>\n",
       "    </tr>\n",
       "    <tr>\n",
       "      <th>4</th>\n",
       "      <td>2010-01-01 02:00:00</td>\n",
       "      <td>22.5</td>\n",
       "      <td>1</td>\n",
       "      <td>4</td>\n",
       "      <td>1</td>\n",
       "      <td>2010</td>\n",
       "      <td>2</td>\n",
       "      <td>0</td>\n",
       "      <td>0</td>\n",
       "      <td>1</td>\n",
       "      <td>1</td>\n",
       "      <td>6812.03</td>\n",
       "    </tr>\n",
       "    <tr>\n",
       "      <th>...</th>\n",
       "      <td>...</td>\n",
       "      <td>...</td>\n",
       "      <td>...</td>\n",
       "      <td>...</td>\n",
       "      <td>...</td>\n",
       "      <td>...</td>\n",
       "      <td>...</td>\n",
       "      <td>...</td>\n",
       "      <td>...</td>\n",
       "      <td>...</td>\n",
       "      <td>...</td>\n",
       "      <td>...</td>\n",
       "    </tr>\n",
       "    <tr>\n",
       "      <th>196508</th>\n",
       "      <td>2021-03-17 22:00:00</td>\n",
       "      <td>19.7</td>\n",
       "      <td>17</td>\n",
       "      <td>2</td>\n",
       "      <td>3</td>\n",
       "      <td>2021</td>\n",
       "      <td>22</td>\n",
       "      <td>0</td>\n",
       "      <td>0</td>\n",
       "      <td>4</td>\n",
       "      <td>2</td>\n",
       "      <td>7419.77</td>\n",
       "    </tr>\n",
       "    <tr>\n",
       "      <th>196509</th>\n",
       "      <td>2021-03-17 22:30:00</td>\n",
       "      <td>19.5</td>\n",
       "      <td>17</td>\n",
       "      <td>2</td>\n",
       "      <td>3</td>\n",
       "      <td>2021</td>\n",
       "      <td>22</td>\n",
       "      <td>30</td>\n",
       "      <td>0</td>\n",
       "      <td>4</td>\n",
       "      <td>2</td>\n",
       "      <td>7417.91</td>\n",
       "    </tr>\n",
       "    <tr>\n",
       "      <th>196510</th>\n",
       "      <td>2021-03-17 23:00:00</td>\n",
       "      <td>19.1</td>\n",
       "      <td>17</td>\n",
       "      <td>2</td>\n",
       "      <td>3</td>\n",
       "      <td>2021</td>\n",
       "      <td>23</td>\n",
       "      <td>0</td>\n",
       "      <td>0</td>\n",
       "      <td>4</td>\n",
       "      <td>2</td>\n",
       "      <td>7287.32</td>\n",
       "    </tr>\n",
       "    <tr>\n",
       "      <th>196511</th>\n",
       "      <td>2021-03-17 23:30:00</td>\n",
       "      <td>18.8</td>\n",
       "      <td>17</td>\n",
       "      <td>2</td>\n",
       "      <td>3</td>\n",
       "      <td>2021</td>\n",
       "      <td>23</td>\n",
       "      <td>30</td>\n",
       "      <td>0</td>\n",
       "      <td>4</td>\n",
       "      <td>2</td>\n",
       "      <td>7172.39</td>\n",
       "    </tr>\n",
       "    <tr>\n",
       "      <th>196512</th>\n",
       "      <td>2021-03-18 00:00:00</td>\n",
       "      <td>18.6</td>\n",
       "      <td>18</td>\n",
       "      <td>3</td>\n",
       "      <td>3</td>\n",
       "      <td>2021</td>\n",
       "      <td>0</td>\n",
       "      <td>0</td>\n",
       "      <td>0</td>\n",
       "      <td>1</td>\n",
       "      <td>2</td>\n",
       "      <td>7094.51</td>\n",
       "    </tr>\n",
       "  </tbody>\n",
       "</table>\n",
       "<p>196513 rows × 12 columns</p>\n",
       "</div>"
      ],
      "text/plain": [
       "                  DATETIME  TEMPERATURE  DAY  DAY_OF_WEEK  MONTH  YEAR  HOUR  \\\n",
       "0      2010-01-01 00:00:00         23.1    1            4      1  2010     0   \n",
       "1      2010-01-01 00:30:00         22.9    1            4      1  2010     0   \n",
       "2      2010-01-01 01:00:00         22.6    1            4      1  2010     1   \n",
       "3      2010-01-01 01:30:00         22.5    1            4      1  2010     1   \n",
       "4      2010-01-01 02:00:00         22.5    1            4      1  2010     2   \n",
       "...                    ...          ...  ...          ...    ...   ...   ...   \n",
       "196508 2021-03-17 22:00:00         19.7   17            2      3  2021    22   \n",
       "196509 2021-03-17 22:30:00         19.5   17            2      3  2021    22   \n",
       "196510 2021-03-17 23:00:00         19.1   17            2      3  2021    23   \n",
       "196511 2021-03-17 23:30:00         18.8   17            2      3  2021    23   \n",
       "196512 2021-03-18 00:00:00         18.6   18            3      3  2021     0   \n",
       "\n",
       "        MINUTE  WEEKEND  TIME_OF_DAY  SEASON  TOTALDEMAND  \n",
       "0            0        0            1       1      8038.00  \n",
       "1           30        0            1       1      7809.31  \n",
       "2            0        0            1       1      7483.69  \n",
       "3           30        0            1       1      7117.23  \n",
       "4            0        0            1       1      6812.03  \n",
       "...        ...      ...          ...     ...          ...  \n",
       "196508       0        0            4       2      7419.77  \n",
       "196509      30        0            4       2      7417.91  \n",
       "196510       0        0            4       2      7287.32  \n",
       "196511      30        0            4       2      7172.39  \n",
       "196512       0        0            1       2      7094.51  \n",
       "\n",
       "[196513 rows x 12 columns]"
      ]
     },
     "execution_count": 19,
     "metadata": {},
     "output_type": "execute_result"
    }
   ],
   "source": [
    "merged"
   ]
  },
  {
   "cell_type": "markdown",
   "id": "4fd2a20c",
   "metadata": {},
   "source": [
    "## Export Temperature Dataset With All Missing Values Filled"
   ]
  },
  {
   "cell_type": "code",
   "execution_count": 20,
   "id": "a3bf6e29",
   "metadata": {},
   "outputs": [],
   "source": [
    "merged.to_csv('merged_all_values_v2.csv', index=False)"
   ]
  },
  {
   "cell_type": "code",
   "execution_count": null,
   "id": "84b97ed2",
   "metadata": {},
   "outputs": [],
   "source": []
  }
 ],
 "metadata": {
  "kernelspec": {
   "display_name": "Python 3",
   "language": "python",
   "name": "python3"
  },
  "language_info": {
   "codemirror_mode": {
    "name": "ipython",
    "version": 3
   },
   "file_extension": ".py",
   "mimetype": "text/x-python",
   "name": "python",
   "nbconvert_exporter": "python",
   "pygments_lexer": "ipython3",
   "version": "3.8.10"
  }
 },
 "nbformat": 4,
 "nbformat_minor": 5
}
